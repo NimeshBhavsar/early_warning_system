{
 "cells": [
  {
   "cell_type": "code",
   "execution_count": 1,
   "metadata": {},
   "outputs": [
    {
     "name": "stdout",
     "output_type": "stream",
     "text": [
      "[('Bob', 95), ('Dave', 92)]\n"
     ]
    }
   ],
   "source": [
    "\n",
    "input = [('Alice', 85),('Bob', 95),('Charlie', 80),('Dave', 92)]\n",
    "output = []\n",
    "for x in input:\n",
    "    if x[1] >= 90:\n",
    "        output.append(x)\n",
    "\n",
    "print(output)\n"
   ]
  },
  {
   "cell_type": "code",
   "execution_count": 2,
   "metadata": {},
   "outputs": [
    {
     "name": "stdout",
     "output_type": "stream",
     "text": [
      "100\n",
      "200\n",
      "300\n",
      "(100, 200, 300)\n"
     ]
    }
   ],
   "source": [
    "num = [100, 200, 300]\n",
    "for x in num:\n",
    "    print(x)\n",
    "tup=[]\n",
    "for x in num:\n",
    "    tup.append(x)\n",
    "print(tuple(tup))\n",
    "\n"
   ]
  },
  {
   "cell_type": "code",
   "execution_count": 3,
   "metadata": {},
   "outputs": [
    {
     "name": "stdout",
     "output_type": "stream",
     "text": [
      "[4, 16, 36, 64, 100]\n"
     ]
    }
   ],
   "source": [
    "l=[1,2,3,4,5,6,7,8,9,10]\n",
    "output=[]\n",
    "for x in l:\n",
    "    if x%2==0:\n",
    "        output.append(x*x)\n",
    "print(output)"
   ]
  },
  {
   "cell_type": "code",
   "execution_count": 5,
   "metadata": {},
   "outputs": [
    {
     "ename": "TypeError",
     "evalue": "'list' object is not callable",
     "output_type": "error",
     "traceback": [
      "\u001b[1;31m---------------------------------------------------------------------------\u001b[0m",
      "\u001b[1;31mTypeError\u001b[0m                                 Traceback (most recent call last)",
      "Cell \u001b[1;32mIn[5], line 1\u001b[0m\n\u001b[1;32m----> 1\u001b[0m s \u001b[38;5;241m=\u001b[39m \u001b[38;5;28mint\u001b[39m(\u001b[38;5;28;43minput\u001b[39;49m\u001b[43m(\u001b[49m\u001b[43m)\u001b[49m)\n\u001b[0;32m      2\u001b[0m \u001b[38;5;28mprint\u001b[39m(s)\n\u001b[0;32m      4\u001b[0m \u001b[38;5;28;01mif\u001b[39;00m \u001b[38;5;241m90\u001b[39m \u001b[38;5;241m<\u001b[39m\u001b[38;5;241m=\u001b[39m s \u001b[38;5;129;01mand\u001b[39;00m s \u001b[38;5;241m<\u001b[39m\u001b[38;5;241m=\u001b[39m \u001b[38;5;241m100\u001b[39m:\n",
      "\u001b[1;31mTypeError\u001b[0m: 'list' object is not callable"
     ]
    }
   ],
   "source": [
    "\n",
    "s=int(input())\n",
    "print(s)\n",
    "\n",
    "if 90<=s and s<=100:\n",
    "    print(\" A\")\n",
    "if 80 <=s and s<=89:\n",
    "    print(\"B\")\n",
    "if 70 <=s and s <=79:\n",
    "    print(\"C\")\n",
    "if 60 <=s and s <=69:\n",
    "    print(\"D\")\n",
    "if 0 <=s and s <=  59:\n",
    "    print(\"F\")\n",
    "if s<0 or s>100 :\n",
    "    print(\"Invalid score\")\n"
   ]
  },
  {
   "cell_type": "code",
   "execution_count": 6,
   "metadata": {},
   "outputs": [
    {
     "name": "stdout",
     "output_type": "stream",
     "text": [
      "1\n",
      "Fizz\n",
      "Buzz\n",
      "Fizz\n",
      "5\n",
      "FizzBuzz\n",
      "7\n",
      "Fizz\n",
      "Buzz\n",
      "Fizz\n",
      "11\n",
      "FizzBuzz\n",
      "13\n",
      "Fizz\n",
      "Buzz\n"
     ]
    }
   ],
   "source": [
    "for num in range(1, 16):\n",
    "    if num % 2 == 0 and num % 3 == 0:\n",
    "        print(\"FizzBuzz\")\n",
    "    elif num % 2 == 0:\n",
    "        print(\"Fizz\")\n",
    "    elif num % 3 == 0:\n",
    "        print(\"Buzz\")\n",
    "    else:\n",
    "        print(num)"
   ]
  },
  {
   "cell_type": "code",
   "execution_count": 8,
   "metadata": {},
   "outputs": [
    {
     "ename": "TypeError",
     "evalue": "'list' object is not callable",
     "output_type": "error",
     "traceback": [
      "\u001b[1;31m---------------------------------------------------------------------------\u001b[0m",
      "\u001b[1;31mTypeError\u001b[0m                                 Traceback (most recent call last)",
      "Cell \u001b[1;32mIn[8], line 2\u001b[0m\n\u001b[0;32m      1\u001b[0m \u001b[38;5;66;03m# Take an integer input from the user\u001b[39;00m\n\u001b[1;32m----> 2\u001b[0m num \u001b[38;5;241m=\u001b[39m \u001b[38;5;28;43minput\u001b[39;49m\u001b[43m(\u001b[49m\u001b[43m)\u001b[49m\n\u001b[0;32m      3\u001b[0m \u001b[38;5;28mprint\u001b[39m(num)\n\u001b[0;32m      4\u001b[0m \u001b[38;5;66;03m# Classify the number\u001b[39;00m\n",
      "\u001b[1;31mTypeError\u001b[0m: 'list' object is not callable"
     ]
    }
   ],
   "source": [
    "# Take an integer input from the user\n",
    "num = int(input())\n",
    "print(num)\n",
    "# Classify the number\n",
    "if num == 0:\n",
    "    print(\"Zero\")\n",
    "elif num > 0:\n",
    "    if num % 2 == 0:\n",
    "        print(\"Positive & Even\")\n",
    "    else:\n",
    "        print(\"Positive & Odd\")\n",
    "else:\n",
    "    if num % 2 == 0:\n",
    "        print(\"Negative & Even\")\n",
    "    else:\n",
    "        print(\"Negative & Odd\")"
   ]
  },
  {
   "cell_type": "code",
   "execution_count": 16,
   "metadata": {},
   "outputs": [
    {
     "name": "stdout",
     "output_type": "stream",
     "text": [
      "90\n"
     ]
    }
   ],
   "source": [
    "from datetime import datetime\n",
    "date1=\"2024-07-27\"\n",
    "date2=\"2024-10-25\"\n",
    "\n",
    "d1 =datetime.strptime(date1,\"%Y-%m-%d\")\n",
    "d2=datetime.strptime(date2,\"%Y-%m-%d\")\n",
    "diff=(d2-d1).days\n",
    "print(diff)"
   ]
  },
  {
   "cell_type": "code",
   "execution_count": null,
   "metadata": {},
   "outputs": [],
   "source": [
    "long_url = input(\"Enter a long URL to shorten: \")\n",
    "\n",
    "# Generate a shortened URL\n",
    "short_code = ''.join(random.choices(string.ascii_letters + string.digits, k=6))\n",
    "\n",
    "# Ensure the generated short code is unique\n",
    "while short_code in url_mapping:\n",
    "    short_code = ''.join(random.choices(string.ascii_letters + string.digits, k=6))\n",
    "\n",
    "# Map short code to long URL\n",
    "url_mapping[short_code] = long_url\n",
    "short_url = f\"short.ly/{short_code}\"\n",
    "\n",
    "# Display the shortened URL\n",
    "print(\"Shortened URL:\", short_url)\n",
    "\n",
    "# Take the shortened URL as input to retrieve the original\n",
    "input_short_url = input(\"Enter the shortened URL to retrieve the original: \")\n",
    "\n",
    "# Check if the shortened URL exists\n",
    "short_code_input = input_short_url.split('/')[-1]\n",
    "\n",
    "if short_code_input in url_mapping:\n",
    "    original_url = url_mapping[short_code_input]\n",
    "    print(\"Original URL:\", original_url)\n",
    "else:\n",
    "    print(\"Error: Shortened URL does not exist.\")"
   ]
  }
 ],
 "metadata": {
  "kernelspec": {
   "display_name": "Python 3 (ipykernel)",
   "language": "python",
   "name": "python3"
  },
  "language_info": {
   "codemirror_mode": {
    "name": "ipython",
    "version": 3
   },
   "file_extension": ".py",
   "mimetype": "text/x-python",
   "name": "python",
   "nbconvert_exporter": "python",
   "pygments_lexer": "ipython3",
   "version": "3.12.1"
  }
 },
 "nbformat": 4,
 "nbformat_minor": 4
}
