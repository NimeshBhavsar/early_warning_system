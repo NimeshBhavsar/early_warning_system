{
 "cells": [
  {
   "cell_type": "code",
   "execution_count": 1,
   "id": "137dc4e7",
   "metadata": {},
   "outputs": [],
   "source": [
    "n=int(input())"
   ]
  },
  {
   "cell_type": "code",
   "execution_count": 2,
   "id": "ec03d797",
   "metadata": {},
   "outputs": [
    {
     "name": "stdout",
     "output_type": "stream",
     "text": [
      "[('Bob', 95), ('Dave', 92)]\n"
     ]
    }
   ],
   "source": [
    "# Q1\n",
    "input = [('Alice', 85),('Bob', 95),('Charlie', 80),('Dave', 92)]\n",
    "output = []\n",
    "for x in input:\n",
    "    if x[1] >= 90:\n",
    "        output.append(x)\n",
    "\n",
    "print(output)\n"
   ]
  },
  {
   "cell_type": "code",
   "execution_count": 3,
   "id": "18bee0f3",
   "metadata": {},
   "outputs": [
    {
     "name": "stdout",
     "output_type": "stream",
     "text": [
      "100\n",
      "200\n",
      "300\n",
      "(100, 200, 300)\n"
     ]
    }
   ],
   "source": [
    "#Q2\n",
    "num = [100, 200, 300]\n",
    "for x in num:\n",
    "    print(x)\n",
    "tup=[]\n",
    "for x in num:\n",
    "    tup.append(x)\n",
    "print(tuple(tup))\n",
    "\n"
   ]
  },
  {
   "cell_type": "code",
   "execution_count": 16,
   "id": "5d151ba0",
   "metadata": {},
   "outputs": [
    {
     "name": "stdout",
     "output_type": "stream",
     "text": [
      "[4, 16, 36, 64, 100]\n"
     ]
    }
   ],
   "source": [
    "#q3\n",
    "l=[1,2,3,4,5,6,7,8,9,10]\n",
    "output=[]\n",
    "for x in l:\n",
    "    if x%2==0:\n",
    "        output.append(x*x)\n",
    "print(output)"
   ]
  },
  {
   "cell_type": "code",
   "execution_count": 1,
   "id": "5ee8ff4d",
   "metadata": {},
   "outputs": [],
   "source": [
    "# Q4\n",
    "s=int(input())"
   ]
  },
  {
   "cell_type": "code",
   "execution_count": 2,
   "id": "9448bc03",
   "metadata": {},
   "outputs": [
    {
     "name": "stdout",
     "output_type": "stream",
     "text": [
      "88\n",
      " B\n"
     ]
    }
   ],
   "source": [
    "print(s)\n",
    "\n",
    "if 90<=s and s<=100:\n",
    "    print(\" A\")\n",
    "if 80 <=s and s<=89:\n",
    "    print(\" B\")\n",
    "if 70 <=s and s <=79:\n",
    "    print(\" C\")\n",
    "if 60 <=s and s <=69:\n",
    "    print(\" D\")\n",
    "if 0 <=s and s <=  59:\n",
    "    print(\" F\")\n",
    "if s<0 or s>100 :\n",
    "    print(\"Invalid score\")\n"
   ]
  },
  {
   "cell_type": "code",
   "execution_count": 7,
   "id": "4fafff30",
   "metadata": {},
   "outputs": [
    {
     "name": "stdout",
     "output_type": "stream",
     "text": [
      "1\n",
      "Fizz\n",
      "Buzz\n",
      "Fizz\n",
      "5\n",
      "FizzBuzz\n",
      "7\n",
      "Fizz\n",
      "Buzz\n",
      "Fizz\n",
      "11\n",
      "FizzBuzz\n",
      "13\n",
      "Fizz\n",
      "Buzz\n"
     ]
    }
   ],
   "source": [
    "#Q5\n",
    "for num in range(1, 16):\n",
    "    if num % 2 == 0 and num % 3 == 0:\n",
    "        print(\"FizzBuzz\")\n",
    "    elif num % 2 == 0:\n",
    "        print(\"Fizz\")\n",
    "    elif num % 3 == 0:\n",
    "        print(\"Buzz\")\n",
    "    else:\n",
    "        print(num)"
   ]
  },
  {
   "cell_type": "code",
   "execution_count": 9,
   "id": "dba1c351",
   "metadata": {},
   "outputs": [
    {
     "name": "stdout",
     "output_type": "stream",
     "text": [
      "-21\n",
      "Negative & Odd\n"
     ]
    }
   ],
   "source": [
    "# Q6\n",
    "num = int(input())\n",
    "if num == 0:\n",
    "    print(\"Zero\")\n",
    "elif num > 0:\n",
    "    if num % 2 == 0:\n",
    "        print(\"Positive & Even\")\n",
    "    else:\n",
    "        print(\"Positive & Odd\")\n",
    "else:\n",
    "    if num % 2 == 0:\n",
    "        print(\"Negative & Even\")\n",
    "    else:\n",
    "        print(\"Negative & Odd\")"
   ]
  },
  {
   "cell_type": "code",
   "execution_count": 6,
   "id": "bf150970",
   "metadata": {},
   "outputs": [
    {
     "name": "stdout",
     "output_type": "stream",
     "text": [
      "90\n"
     ]
    }
   ],
   "source": [
    "# Q7\n",
    "from datetime import datetime\n",
    "date1=\"2024-07-27\"\n",
    "date2=\"2024-10-25\"\n",
    "#days since musigma joining date\n",
    "try:\n",
    "    d1 =datetime.strptime(date1,\"%Y-%m-%d\")\n",
    "    d2=datetime.strptime(date2,\"%Y-%m-%d\")\n",
    "    diff=(d2-d1).days\n",
    "    print(diff)\n",
    "except:\n",
    "    print(\"Invalid date format\")"
   ]
  },
  {
   "cell_type": "code",
   "execution_count": 10,
   "id": "de4d4192",
   "metadata": {},
   "outputs": [
    {
     "name": "stdout",
     "output_type": "stream",
     "text": [
      "Input Long URL= \n",
      "www.very.com/long/url1/is/here\n",
      "mapped url=  [['short.ly/1', 'www.very.com/long/url1/is/here']]\n",
      "Input short URL \n",
      "short.ly/1\n",
      "www.very.com/long/url1/is/here\n"
     ]
    }
   ],
   "source": [
    "# Q9\n",
    "print(\"Input Long URL= \")\n",
    "url1 = input()\n",
    "print(url1)\n",
    "url2 = \"short.ly/\"\n",
    "map=[]\n",
    "map.append([url2+'1',url1])\n",
    "print(\"mapped url= \",map)\n",
    "print(\"Input short URL \")\n",
    "search=input()\n",
    "print(search)\n",
    "for x in map:\n",
    "    if x[0]==search:\n",
    "        print(x[1])\n",
    "    else:\n",
    "        print(\"URL does not exist\")"
   ]
  },
  {
   "cell_type": "code",
   "execution_count": 15,
   "id": "7a925c3a",
   "metadata": {},
   "outputs": [
    {
     "name": "stdout",
     "output_type": "stream",
     "text": [
      "[('Alice', 85), ('Bob', 65), ('Charlie', 75), ('David', 90)]\n",
      "Students Above Average:  (['Alice', 85], ['David', 90])\n",
      "Average Score:  78.75\n"
     ]
    }
   ],
   "source": [
    "#Q10\n",
    "tup = [(\"Alice\", 85),(\"Bob\", 65),(\"Charlie\", 75),(\"David\", 90)]\n",
    "print(tup)\n",
    "if not tup:\n",
    "    avg=0.0\n",
    "    std=[]\n",
    "else:\n",
    "    total=0\n",
    "    n=len(tup)\n",
    "    avg=0.0\n",
    "    std=[]\n",
    "    for name,score in tup:\n",
    "        total=total+score\n",
    "\n",
    "    avg = total / n\n",
    "\n",
    "    for name,score in tup:\n",
    "        if score > avg:\n",
    "            std.append([name,score])\n",
    "\n",
    "# Output the results\n",
    "print(\"Students Above Average: \", tuple(std))\n",
    "print(\"Average Score: \",avg)\n",
    "\n"
   ]
  },
  {
   "cell_type": "code",
   "execution_count": 17,
   "id": "7209fc88",
   "metadata": {},
   "outputs": [],
   "source": [
    "# Q11\n",
    "import pandas as pd\n",
    "import numpy as np\n",
    "\n"
   ]
  },
  {
   "cell_type": "code",
   "execution_count": 19,
   "id": "c208d03e",
   "metadata": {},
   "outputs": [
    {
     "data": {
      "text/html": [
       "<div>\n",
       "<style scoped>\n",
       "    .dataframe tbody tr th:only-of-type {\n",
       "        vertical-align: middle;\n",
       "    }\n",
       "\n",
       "    .dataframe tbody tr th {\n",
       "        vertical-align: top;\n",
       "    }\n",
       "\n",
       "    .dataframe thead th {\n",
       "        text-align: right;\n",
       "    }\n",
       "</style>\n",
       "<table border=\"1\" class=\"dataframe\">\n",
       "  <thead>\n",
       "    <tr style=\"text-align: right;\">\n",
       "      <th></th>\n",
       "      <th>city_mpg</th>\n",
       "      <th>class</th>\n",
       "      <th>combination_mpg</th>\n",
       "      <th>cylinders</th>\n",
       "      <th>displacement</th>\n",
       "      <th>drive</th>\n",
       "      <th>fuel_type</th>\n",
       "      <th>highway_mpg</th>\n",
       "      <th>make</th>\n",
       "      <th>model</th>\n",
       "      <th>transmission</th>\n",
       "      <th>year</th>\n",
       "    </tr>\n",
       "  </thead>\n",
       "  <tbody>\n",
       "    <tr>\n",
       "      <th>0</th>\n",
       "      <td>25</td>\n",
       "      <td>midsize car</td>\n",
       "      <td>29</td>\n",
       "      <td>4.0</td>\n",
       "      <td>2.5</td>\n",
       "      <td>fwd</td>\n",
       "      <td>gas</td>\n",
       "      <td>36</td>\n",
       "      <td>mazda</td>\n",
       "      <td>6</td>\n",
       "      <td>m</td>\n",
       "      <td>2014</td>\n",
       "    </tr>\n",
       "    <tr>\n",
       "      <th>1</th>\n",
       "      <td>26</td>\n",
       "      <td>midsize car</td>\n",
       "      <td>30</td>\n",
       "      <td>4.0</td>\n",
       "      <td>2.5</td>\n",
       "      <td>fwd</td>\n",
       "      <td>gas</td>\n",
       "      <td>37</td>\n",
       "      <td>mazda</td>\n",
       "      <td>6</td>\n",
       "      <td>a</td>\n",
       "      <td>2014</td>\n",
       "    </tr>\n",
       "    <tr>\n",
       "      <th>2</th>\n",
       "      <td>25</td>\n",
       "      <td>small sport utility vehicle</td>\n",
       "      <td>27</td>\n",
       "      <td>4.0</td>\n",
       "      <td>2.5</td>\n",
       "      <td>fwd</td>\n",
       "      <td>gas</td>\n",
       "      <td>31</td>\n",
       "      <td>mazda</td>\n",
       "      <td>cx-5 2wd</td>\n",
       "      <td>a</td>\n",
       "      <td>2014</td>\n",
       "    </tr>\n",
       "    <tr>\n",
       "      <th>3</th>\n",
       "      <td>26</td>\n",
       "      <td>small sport utility vehicle</td>\n",
       "      <td>29</td>\n",
       "      <td>4.0</td>\n",
       "      <td>2.0</td>\n",
       "      <td>fwd</td>\n",
       "      <td>gas</td>\n",
       "      <td>34</td>\n",
       "      <td>mazda</td>\n",
       "      <td>cx-5 2wd</td>\n",
       "      <td>m</td>\n",
       "      <td>2014</td>\n",
       "    </tr>\n",
       "    <tr>\n",
       "      <th>4</th>\n",
       "      <td>26</td>\n",
       "      <td>small sport utility vehicle</td>\n",
       "      <td>28</td>\n",
       "      <td>4.0</td>\n",
       "      <td>2.0</td>\n",
       "      <td>fwd</td>\n",
       "      <td>gas</td>\n",
       "      <td>32</td>\n",
       "      <td>mazda</td>\n",
       "      <td>cx-5 2wd</td>\n",
       "      <td>a</td>\n",
       "      <td>2014</td>\n",
       "    </tr>\n",
       "  </tbody>\n",
       "</table>\n",
       "</div>"
      ],
      "text/plain": [
       "   city_mpg                        class  combination_mpg  cylinders  \\\n",
       "0        25                  midsize car               29        4.0   \n",
       "1        26                  midsize car               30        4.0   \n",
       "2        25  small sport utility vehicle               27        4.0   \n",
       "3        26  small sport utility vehicle               29        4.0   \n",
       "4        26  small sport utility vehicle               28        4.0   \n",
       "\n",
       "   displacement drive fuel_type  highway_mpg   make     model transmission  \\\n",
       "0           2.5   fwd       gas           36  mazda         6            m   \n",
       "1           2.5   fwd       gas           37  mazda         6            a   \n",
       "2           2.5   fwd       gas           31  mazda  cx-5 2wd            a   \n",
       "3           2.0   fwd       gas           34  mazda  cx-5 2wd            m   \n",
       "4           2.0   fwd       gas           32  mazda  cx-5 2wd            a   \n",
       "\n",
       "   year  \n",
       "0  2014  \n",
       "1  2014  \n",
       "2  2014  \n",
       "3  2014  \n",
       "4  2014  "
      ]
     },
     "execution_count": 19,
     "metadata": {},
     "output_type": "execute_result"
    }
   ],
   "source": [
    "df=pd.read_csv(\"car_data.csv\")\n",
    "df.head()"
   ]
  },
  {
   "cell_type": "code",
   "execution_count": 20,
   "id": "d9d14ab9",
   "metadata": {},
   "outputs": [
    {
     "name": "stdout",
     "output_type": "stream",
     "text": [
      "3\n"
     ]
    }
   ],
   "source": [
    "unique_fuel = df['fuel_type'].nunique()\n",
    "print(unique_fuel)"
   ]
  },
  {
   "cell_type": "code",
   "execution_count": 26,
   "id": "5184038c",
   "metadata": {},
   "outputs": [
    {
     "name": "stdout",
     "output_type": "stream",
     "text": [
      "fuel_type\n",
      "diesel           2\n",
      "electricity      2\n",
      "gas            546\n",
      "dtype: int64\n",
      "546\n",
      "gas\n"
     ]
    }
   ],
   "source": [
    "fueltype = df.groupby('fuel_type').size()\n",
    "print(fueltype)\n",
    "print(max(fueltype))\n",
    "print(fueltype.idxmax())"
   ]
  },
  {
   "cell_type": "code",
   "execution_count": 29,
   "id": "a26b7474",
   "metadata": {},
   "outputs": [
    {
     "name": "stdout",
     "output_type": "stream",
     "text": [
      "Most Common CYlinder  4.0\n"
     ]
    }
   ],
   "source": [
    "commonCylinder = df['cylinders'].mode()[0]\n",
    "print(\"Most Common CYlinder \",commonCylinder)"
   ]
  },
  {
   "cell_type": "code",
   "execution_count": 34,
   "id": "6ecbee09",
   "metadata": {},
   "outputs": [
    {
     "name": "stdout",
     "output_type": "stream",
     "text": [
      "count of cylinder>6=  106\n"
     ]
    }
   ],
   "source": [
    "sixCylinders = df[df['cylinders'] > 6]\n",
    "print('count of cylinder>6= ', sixCylinders['cylinders'].count())"
   ]
  },
  {
   "cell_type": "code",
   "execution_count": 36,
   "id": "e870e692",
   "metadata": {},
   "outputs": [
    {
     "name": "stdout",
     "output_type": "stream",
     "text": [
      "count of 2020 vehicles  50\n"
     ]
    }
   ],
   "source": [
    "vehicles2020 = df[df['year'] == 2020]\n",
    "print('count of 2020 vehicles ', vehicles2020['year'].count())"
   ]
  },
  {
   "cell_type": "code",
   "execution_count": 38,
   "id": "15230566",
   "metadata": {},
   "outputs": [
    {
     "name": "stdout",
     "output_type": "stream",
     "text": [
      "average miles per gallon in 2018 =  23.06\n"
     ]
    }
   ],
   "source": [
    "averageMPG = df[df['year'] == 2018]['combination_mpg'].mean()\n",
    "print('average miles per gallon in 2018 = ', averageMPG)"
   ]
  },
  {
   "cell_type": "code",
   "execution_count": 45,
   "id": "0ce0c886",
   "metadata": {},
   "outputs": [
    {
     "data": {
      "image/png": "[encoded data removed]",
      "text/plain": [
       "<Figure size 640x480 with 1 Axes>"
      ]
     },
     "metadata": {},
     "output_type": "display_data"
    }
   ],
   "source": [
    "import matplotlib.pyplot as plt\n",
    "avgCityMPG = df.groupby('fuel_type')['city_mpg'].mean().sort_values()\n",
    "avgCityMPG.plot(kind='bar')\n",
    "plt.title('average city miles per gallon by fuel type')\n",
    "plt.xlabel('fuel type')\n",
    "plt.ylabel('average miles per gallon')\n",
    "plt.show()"
   ]
  },
  {
   "cell_type": "code",
   "execution_count": 50,
   "id": "47abd18b",
   "metadata": {},
   "outputs": [
    {
     "name": "stdout",
     "output_type": "stream",
     "text": [
      "fuel_type\n",
      "gas             21.075092\n",
      "diesel          24.500000\n",
      "electricity    123.500000\n",
      "Name: city_mpg, dtype: float64\n",
      "maximum miles per gallon in city:\n",
      "electricity\n",
      "123.5\n"
     ]
    }
   ],
   "source": [
    "print(avgCityMPG)\n",
    "print(\"maximum miles per gallon in city:\")\n",
    "print(avgCityMPG.idxmax())\n",
    "print(max(avgCityMPG))\n"
   ]
  },
  {
   "cell_type": "code",
   "execution_count": null,
   "id": "70a9eeda",
   "metadata": {},
   "outputs": [],
   "source": [
    "\n"
   ]
  },
  {
   "cell_type": "code",
   "execution_count": 53,
   "id": "663eebc8",
   "metadata": {},
   "outputs": [
    {
     "name": "stdout",
     "output_type": "stream",
     "text": [
      "Input among the following:\n",
      "A to Push\n",
      "B to Pop\n",
      "C to get the top element without removing it\n",
      "D to get the minimum element in the stack\n",
      "E to exit\n",
      "a\n",
      "[12]\n",
      "Input among the following:\n",
      "A to Push\n",
      "B to Pop\n",
      "C to get the top element without removing it\n",
      "D to get the minimum element in the stack\n",
      "E to exit\n",
      "a\n",
      "[12, 13]\n",
      "Input among the following:\n",
      "A to Push\n",
      "B to Pop\n",
      "C to get the top element without removing it\n",
      "D to get the minimum element in the stack\n",
      "E to exit\n",
      "a\n",
      "[12, 13, 15]\n",
      "Input among the following:\n",
      "A to Push\n",
      "B to Pop\n",
      "C to get the top element without removing it\n",
      "D to get the minimum element in the stack\n",
      "E to exit\n",
      "a\n",
      "[12, 13, 15, 17]\n",
      "Input among the following:\n",
      "A to Push\n",
      "B to Pop\n",
      "C to get the top element without removing it\n",
      "D to get the minimum element in the stack\n",
      "E to exit\n",
      "b\n"
     ]
    },
    {
     "ename": "UnboundLocalError",
     "evalue": "local variable 'stack' referenced before assignment",
     "output_type": "error",
     "traceback": [
      "\u001b[1;31m---------------------------------------------------------------------------\u001b[0m",
      "\u001b[1;31mUnboundLocalError\u001b[0m                         Traceback (most recent call last)",
      "Cell \u001b[1;32mIn[53], line 41\u001b[0m\n\u001b[0;32m     38\u001b[0m     push(\u001b[38;5;28mint\u001b[39m(\u001b[38;5;28minput\u001b[39m()))\n\u001b[0;32m     40\u001b[0m \u001b[38;5;28;01melif\u001b[39;00m choice \u001b[38;5;241m==\u001b[39m \u001b[38;5;124m'\u001b[39m\u001b[38;5;124mb\u001b[39m\u001b[38;5;124m'\u001b[39m:\n\u001b[1;32m---> 41\u001b[0m     \u001b[43mpop\u001b[49m\u001b[43m(\u001b[49m\u001b[43m)\u001b[49m\n\u001b[0;32m     42\u001b[0m \u001b[38;5;28;01melif\u001b[39;00m choice \u001b[38;5;241m==\u001b[39m \u001b[38;5;124m'\u001b[39m\u001b[38;5;124mc\u001b[39m\u001b[38;5;124m'\u001b[39m:\n\u001b[0;32m     43\u001b[0m     peek()\n",
      "Cell \u001b[1;32mIn[53], line 9\u001b[0m, in \u001b[0;36mpop\u001b[1;34m()\u001b[0m\n\u001b[0;32m      8\u001b[0m \u001b[38;5;28;01mdef\u001b[39;00m \u001b[38;5;21mpop\u001b[39m():\n\u001b[1;32m----> 9\u001b[0m     value \u001b[38;5;241m=\u001b[39m \u001b[43mstack\u001b[49m[\u001b[38;5;241m-\u001b[39m\u001b[38;5;241m1\u001b[39m]\n\u001b[0;32m     10\u001b[0m     \u001b[38;5;28mprint\u001b[39m(\u001b[38;5;124m\"\u001b[39m\u001b[38;5;124mpopped element: \u001b[39m\u001b[38;5;124m\"\u001b[39m,value)\n\u001b[0;32m     11\u001b[0m     stack\u001b[38;5;241m=\u001b[39mstack[:\u001b[38;5;241m-\u001b[39m\u001b[38;5;241m1\u001b[39m]\n",
      "\u001b[1;31mUnboundLocalError\u001b[0m: local variable 'stack' referenced before assignment"
     ]
    }
   ],
   "source": [
    "#12 \n",
    "stack = []\n",
    "def push(value):\n",
    "    stack.append(value)\n",
    "    print(stack)\n",
    "\n",
    "def pop():\n",
    "    value = stack[-1]\n",
    "    print(\"popped element: \",value)\n",
    "    stack=stack[:-1]\n",
    "\n",
    "def peek():\n",
    "    print(\"Top element: \",stack[-1])\n",
    "\n",
    "def get_min():\n",
    "    min=stack[0]\n",
    "    for x in stack:\n",
    "        if x < min:\n",
    "            min = x\n",
    "    print(\"Minimum element in the stack: \",min)\n",
    "\n",
    "def display():\n",
    "    print(stack)\n",
    "\n",
    "\n",
    "\n",
    "while True:\n",
    "    print(\"Input among the following:\")\n",
    "    print(\"A to Push\")\n",
    "    print(\"B to Pop\")\n",
    "    print(\"C to get the top element without removing it\")\n",
    "    print(\"D to get the minimum element in the stack\")\n",
    "    print(\"E to exit\")\n",
    "    choice = input()\n",
    "    print(choice)\n",
    "    if choice == 'a':\n",
    "        push(int(input()))\n",
    "        \n",
    "    elif choice == 'b':\n",
    "        pop()\n",
    "    elif choice == 'c':\n",
    "        peek()\n",
    "    elif choice == 'd':\n",
    "        get_min()\n",
    "    else:\n",
    "        break\n"
   ]
  },
  {
   "cell_type": "code",
   "execution_count": null,
   "id": "8b6ca607",
   "metadata": {},
   "outputs": [],
   "source": []
  }
 ],
 "metadata": {
  "kernelspec": {
   "display_name": "Python 3",
   "language": "python",
   "name": "python3"
  },
  "language_info": {
   "codemirror_mode": {
    "name": "ipython",
    "version": 3
   },
   "file_extension": ".py",
   "mimetype": "text/x-python",
   "name": "python",
   "nbconvert_exporter": "python",
   "pygments_lexer": "ipython3",
   "version": "3.10.9"
  }
 },
 "nbformat": 4,
 "nbformat_minor": 5
}
