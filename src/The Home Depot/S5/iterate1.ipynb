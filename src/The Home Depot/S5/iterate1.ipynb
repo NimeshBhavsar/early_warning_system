{
 "cells": [
  {
   "cell_type": "code",
   "execution_count": 1,
   "metadata": {},
   "outputs": [],
   "source": [
    "import pandas as pd\n",
    "from sklearn.model_selection import train_test_split\n",
    "from sklearn.preprocessing import LabelEncoder, StandardScaler\n",
    "from sklearn.linear_model import LogisticRegression\n",
    "from sklearn.metrics import accuracy_score, classification_report, confusion_matrix\n",
    "\n",
    "\n"
   ]
  },
  {
   "cell_type": "code",
   "execution_count": 2,
   "metadata": {},
   "outputs": [],
   "source": [
    "\n",
    "# Load the data\n",
    "df = pd.read_csv('cleaned_data.csv')\n",
    "\n",
    "# Drop rows with missing churn_risk_score or handle missing data\n",
    "df.dropna(subset=['churn_risk_score'], inplace=True)\n"
   ]
  },
  {
   "cell_type": "code",
   "execution_count": 3,
   "metadata": {},
   "outputs": [
    {
     "name": "stdout",
     "output_type": "stream",
     "text": [
      "Successfully set 'customer_id' as index.\n"
     ]
    }
   ],
   "source": [
    "\n",
    "if df['customer_id'].is_unique:\n",
    "\n",
    "    df.set_index('customer_id', inplace=True)\n",
    "\n",
    "    print(\"Successfully set 'customer_id' as index.\")\n",
    "\n",
    "else:\n",
    "\n",
    "    print(\"Cannot set 'customer_id' as index, duplicates still present.\")\n",
    "    \n"
   ]
  },
  {
   "cell_type": "code",
   "execution_count": 4,
   "metadata": {},
   "outputs": [],
   "source": [
    "\n",
    "# Feature encoding for categorical columns\n",
    "categorical_cols = ['gender', 'region_category',  \n",
    "                    'joined_through_referral', 'preferred_offer_types', \n",
    "                    'medium_of_operation', 'internet_option', \n",
    "                    'used_special_discount', 'offer_application_preference', \n",
    "                    'past_complaint', 'complaint_status', 'feedback']\n",
    "\n",
    "df = pd.get_dummies(df, columns=categorical_cols, drop_first=True)\n"
   ]
  },
  {
   "cell_type": "code",
   "execution_count": 5,
   "metadata": {},
   "outputs": [],
   "source": [
    "\n",
    "# Convert 'joining_date' to datetime and create a 'days_since_joining' feature\n",
    "df['joining_date'] = pd.to_datetime(df['joining_date'])\n",
    "df['days_since_joining'] = (pd.to_datetime('today') - df['joining_date']).dt.days\n",
    "df.drop(columns=['joining_date'], inplace=True)\n"
   ]
  },
  {
   "cell_type": "code",
   "execution_count": 6,
   "metadata": {},
   "outputs": [],
   "source": [
    "# ordinal label encoding\n",
    "membership_mapping = {\n",
    "    'No Membership': 0,\n",
    "    'Basic Membership': 1,\n",
    "    'Silver Membership': 2,\n",
    "    'Gold Membership': 3,\n",
    "    'Platinum Membership': 4,\n",
    "    'Premium Membership':5\n",
    "}\n",
    "\n",
    "df['membership_category'] = df['membership_category'].map(membership_mapping)\n",
    "\n"
   ]
  },
  {
   "cell_type": "code",
   "execution_count": 7,
   "metadata": {},
   "outputs": [
    {
     "data": {
      "text/plain": [
       "Index(['age', 'membership_category', 'days_since_last_login', 'avg_time_spent',\n",
       "       'avg_transaction_value', 'avg_frequency_login_days', 'points_in_wallet',\n",
       "       'churn_risk_score', 'dataset', 'gender_M', 'gender_Unknown',\n",
       "       'region_category_Town', 'region_category_Unknown',\n",
       "       'region_category_Village', 'joined_through_referral_Yes',\n",
       "       'preferred_offer_types_Gift Vouchers/Coupons',\n",
       "       'preferred_offer_types_Unknown', 'preferred_offer_types_Without Offers',\n",
       "       'medium_of_operation_Desktop', 'medium_of_operation_Smartphone',\n",
       "       'medium_of_operation_Unknown', 'internet_option_Mobile_Data',\n",
       "       'internet_option_Wi-Fi', 'used_special_discount_Yes',\n",
       "       'offer_application_preference_Yes', 'past_complaint_Yes',\n",
       "       'complaint_status_Not Applicable', 'complaint_status_Solved',\n",
       "       'complaint_status_Solved in Follow-up', 'complaint_status_Unsolved',\n",
       "       'feedback_Poor Customer Service', 'feedback_Poor Product Quality',\n",
       "       'feedback_Poor Website', 'feedback_Products always in Stock',\n",
       "       'feedback_Quality Customer Care', 'feedback_Reasonable Price',\n",
       "       'feedback_Too many ads', 'feedback_User Friendly Website',\n",
       "       'days_since_joining'],\n",
       "      dtype='object')"
      ]
     },
     "execution_count": 7,
     "metadata": {},
     "output_type": "execute_result"
    }
   ],
   "source": [
    "\n",
    "df.columns\n"
   ]
  },
  {
   "cell_type": "code",
   "execution_count": 8,
   "metadata": {},
   "outputs": [],
   "source": [
    "df = df[df['churn_risk_score'] != 0]\n",
    "\n",
    "\n"
   ]
  },
  {
   "cell_type": "code",
   "execution_count": 9,
   "metadata": {},
   "outputs": [
    {
     "name": "stdout",
     "output_type": "stream",
     "text": [
      "                                      points_in_wallet  membership_category  \\\n",
      "customer_id                                                                   \n",
      "fffe4300490044003600300030003800                781.75                    4   \n",
      "fffe4300490044003100390032003600                500.69                    0   \n",
      "fffe43004900440036003000330031003600            567.66                    0   \n",
      "fffe43004900440031003900350030003600            663.06                    0   \n",
      "fffe43004900440036003300320035003300            722.27                    3   \n",
      "\n",
      "                                      feedback_Poor Customer Service  \\\n",
      "customer_id                                                            \n",
      "fffe4300490044003600300030003800                               False   \n",
      "fffe4300490044003100390032003600                               False   \n",
      "fffe43004900440036003000330031003600                           False   \n",
      "fffe43004900440031003900350030003600                           False   \n",
      "fffe43004900440036003300320035003300                           False   \n",
      "\n",
      "                                      feedback_Poor Product Quality  \\\n",
      "customer_id                                                           \n",
      "fffe4300490044003600300030003800                              False   \n",
      "fffe4300490044003100390032003600                              False   \n",
      "fffe43004900440036003000330031003600                          False   \n",
      "fffe43004900440031003900350030003600                          False   \n",
      "fffe43004900440036003300320035003300                          False   \n",
      "\n",
      "                                      feedback_Poor Website  \\\n",
      "customer_id                                                   \n",
      "fffe4300490044003600300030003800                      False   \n",
      "fffe4300490044003100390032003600                       True   \n",
      "fffe43004900440036003000330031003600                   True   \n",
      "fffe43004900440031003900350030003600                   True   \n",
      "fffe43004900440036003300320035003300                  False   \n",
      "\n",
      "                                      feedback_Products always in Stock  \\\n",
      "customer_id                                                               \n",
      "fffe4300490044003600300030003800                                   True   \n",
      "fffe4300490044003100390032003600                                  False   \n",
      "fffe43004900440036003000330031003600                              False   \n",
      "fffe43004900440031003900350030003600                              False   \n",
      "fffe43004900440036003300320035003300                              False   \n",
      "\n",
      "                                      feedback_Quality Customer Care  \\\n",
      "customer_id                                                            \n",
      "fffe4300490044003600300030003800                               False   \n",
      "fffe4300490044003100390032003600                               False   \n",
      "fffe43004900440036003000330031003600                           False   \n",
      "fffe43004900440031003900350030003600                           False   \n",
      "fffe43004900440036003300320035003300                           False   \n",
      "\n",
      "                                      feedback_Reasonable Price  \\\n",
      "customer_id                                                       \n",
      "fffe4300490044003600300030003800                          False   \n",
      "fffe4300490044003100390032003600                          False   \n",
      "fffe43004900440036003000330031003600                      False   \n",
      "fffe43004900440031003900350030003600                      False   \n",
      "fffe43004900440036003300320035003300                      False   \n",
      "\n",
      "                                      feedback_Too many ads  \\\n",
      "customer_id                                                   \n",
      "fffe4300490044003600300030003800                      False   \n",
      "fffe4300490044003100390032003600                      False   \n",
      "fffe43004900440036003000330031003600                  False   \n",
      "fffe43004900440031003900350030003600                  False   \n",
      "fffe43004900440036003300320035003300                  False   \n",
      "\n",
      "                                      feedback_User Friendly Website  \\\n",
      "customer_id                                                            \n",
      "fffe4300490044003600300030003800                               False   \n",
      "fffe4300490044003100390032003600                               False   \n",
      "fffe43004900440036003000330031003600                           False   \n",
      "fffe43004900440031003900350030003600                           False   \n",
      "fffe43004900440036003300320035003300                           False   \n",
      "\n",
      "                                      avg_transaction_value  avg_time_spent  \\\n",
      "customer_id                                                                   \n",
      "fffe4300490044003600300030003800                 230.228691       17.338685   \n",
      "fffe4300490044003100390032003600                 145.006896       22.719155   \n",
      "fffe43004900440036003000330031003600             158.869632        7.298630   \n",
      "fffe43004900440031003900350030003600             156.472554       10.636259   \n",
      "fffe43004900440036003300320035003300             117.833654       20.823544   \n",
      "\n",
      "                                      avg_frequency_login_days  age  \\\n",
      "customer_id                                                           \n",
      "fffe4300490044003600300030003800                      4.123106   18   \n",
      "fffe4300490044003100390032003600                      4.690416   44   \n",
      "fffe43004900440036003000330031003600                  2.449490   37   \n",
      "fffe43004900440031003900350030003600                  4.000000   31   \n",
      "fffe43004900440036003300320035003300                  4.898979   13   \n",
      "\n",
      "                                      days_since_last_login  \n",
      "customer_id                                                  \n",
      "fffe4300490044003600300030003800                         17  \n",
      "fffe4300490044003100390032003600                         14  \n",
      "fffe43004900440036003000330031003600                     11  \n",
      "fffe43004900440031003900350030003600                     20  \n",
      "fffe43004900440036003300320035003300                     23  \n"
     ]
    }
   ],
   "source": [
    "\n",
    "# select only points_in_wallet, membership_category_encoded, feedback , avg_transaction_value , avg_time_spent , avg_frequency_login_days , age , days_since_last_login \n",
    "selected_columns = ['points_in_wallet', 'membership_category', 'feedback_Poor Customer Service', 'feedback_Poor Product Quality',\n",
    "       'feedback_Poor Website', 'feedback_Products always in Stock',\n",
    "       'feedback_Quality Customer Care', 'feedback_Reasonable Price',\n",
    "       'feedback_Too many ads', 'feedback_User Friendly Website', 'avg_transaction_value', 'avg_time_spent', 'avg_frequency_login_days', 'age', 'days_since_last_login']\n",
    "df_selected = df[selected_columns]\n",
    "df_selected.columns\n",
    "print(df_selected.head()) "
   ]
  },
  {
   "cell_type": "code",
   "execution_count": 10,
   "metadata": {},
   "outputs": [
    {
     "name": "stdout",
     "output_type": "stream",
     "text": [
      "Accuracy: 0.6280497402801826\n",
      "              precision    recall  f1-score   support\n",
      "\n",
      "         1.0       0.60      0.56      0.58       463\n",
      "         2.0       0.59      0.62      0.60       462\n",
      "         3.0       0.77      0.77      0.77      1845\n",
      "         4.0       0.45      0.48      0.47      1812\n",
      "         5.0       0.69      0.65      0.67      1771\n",
      "\n",
      "    accuracy                           0.63      6353\n",
      "   macro avg       0.62      0.62      0.62      6353\n",
      "weighted avg       0.63      0.63      0.63      6353\n",
      "\n",
      "[[ 261  175    0    0    0]\n",
      " [ 202  287    0    0    0]\n",
      " [   0    0 1419  433    0]\n",
      " [   0    0  426  864  612]\n",
      " [   0    0    0  515 1159]]\n"
     ]
    }
   ],
   "source": [
    "\n",
    "# Separate features and target variable\n",
    "X = df.drop(columns=['churn_risk_score', 'dataset'])\n",
    "y = df['churn_risk_score']\n",
    "\n",
    "# Train-test split\n",
    "X_train, X_test, y_train, y_test = train_test_split(X, y, test_size=0.2, random_state=42)   #random_state is like setting a seed\n",
    "\n",
    "# Standardize numerical features\n",
    "scaler = StandardScaler()\n",
    "X_train = scaler.fit_transform(X_train)\n",
    "X_test = scaler.transform(X_test)\n",
    "\n",
    "# Logistic Regression model (multinomial)\n",
    "model = LogisticRegression(multi_class='multinomial', solver='lbfgs', max_iter=1000)\n",
    "model.fit(X_train, y_train)\n",
    "\n",
    "# Predictions\n",
    "y_pred = model.predict(X_test)\n",
    "\n",
    "# Evaluation\n",
    "print(f\"Accuracy: {accuracy_score(y_test, y_pred)}\")\n",
    "print(classification_report(y_test, y_pred))\n",
    "print(confusion_matrix(y_pred,y_test))\n"
   ]
  },
  {
   "cell_type": "code",
   "execution_count": 11,
   "metadata": {},
   "outputs": [
    {
     "name": "stdout",
     "output_type": "stream",
     "text": [
      "Accuracy: 0.6280497402801826\n",
      "              precision    recall  f1-score   support\n",
      "\n",
      "         1.0       0.60      0.56      0.58       463\n",
      "         2.0       0.59      0.62      0.61       462\n",
      "         3.0       0.77      0.77      0.77      1845\n",
      "         4.0       0.45      0.48      0.47      1812\n",
      "         5.0       0.69      0.65      0.67      1771\n",
      "\n",
      "    accuracy                           0.63      6353\n",
      "   macro avg       0.62      0.62      0.62      6353\n",
      "weighted avg       0.63      0.63      0.63      6353\n",
      "\n",
      "[[ 261  202    0    0    0]\n",
      " [ 174  288    0    0    0]\n",
      " [   0    0 1419  426    0]\n",
      " [   0    0  433  864  515]\n",
      " [   0    0    0  613 1158]]\n"
     ]
    }
   ],
   "source": [
    "scaler = StandardScaler()\n",
    "X_train = scaler.fit_transform(X_train)\n",
    "X_test = scaler.transform(X_test)\n",
    "\n",
    "# Logistic Regression model (multinomial)\n",
    "model = LogisticRegression(multi_class='multinomial', solver='saga', max_iter=1000)\n",
    "model.fit(X_train, y_train)\n",
    "\n",
    "# Predictions\n",
    "y_pred = model.predict(X_test)\n",
    "\n",
    "# Evaluation\n",
    "print(f\"Accuracy: {accuracy_score(y_test, y_pred)}\")\n",
    "print(classification_report(y_test, y_pred))\n",
    "print(confusion_matrix(y_test, y_pred))"
   ]
  },
  {
   "cell_type": "code",
   "execution_count": 12,
   "metadata": {},
   "outputs": [
    {
     "name": "stdout",
     "output_type": "stream",
     "text": [
      "churn_risk_score\n",
      "3.0    7408\n",
      "5.0    7408\n",
      "2.0    7408\n",
      "4.0    7408\n",
      "1.0    7408\n",
      "Name: count, dtype: int64\n"
     ]
    }
   ],
   "source": [
    "from imblearn.over_sampling import RandomOverSampler\n",
    "\n",
    "# Oversample the training set only\n",
    "oversample = RandomOverSampler(sampling_strategy='auto', random_state=42)\n",
    "X_train_resampled, y_train_resampled = oversample.fit_resample(X_train, y_train)\n",
    "\n",
    "# Check the distribution after oversampling\n",
    "print(y_train_resampled.value_counts())\n"
   ]
  },
  {
   "cell_type": "code",
   "execution_count": 13,
   "metadata": {},
   "outputs": [
    {
     "name": "stdout",
     "output_type": "stream",
     "text": [
      "              precision    recall  f1-score   support\n",
      "\n",
      "         1.0       0.60      0.56      0.58       463\n",
      "         2.0       0.59      0.62      0.61       462\n",
      "         3.0       0.77      0.77      0.77      1845\n",
      "         4.0       0.45      0.48      0.47      1812\n",
      "         5.0       0.69      0.65      0.67      1771\n",
      "\n",
      "    accuracy                           0.63      6353\n",
      "   macro avg       0.62      0.62      0.62      6353\n",
      "weighted avg       0.63      0.63      0.63      6353\n",
      "\n",
      "[[ 261  202    0    0    0]\n",
      " [ 174  288    0    0    0]\n",
      " [   0    0 1419  426    0]\n",
      " [   0    0  433  864  515]\n",
      " [   0    0    0  613 1158]]\n"
     ]
    }
   ],
   "source": [
    "# Logistic Regression with class_weight set to 'balanced'\n",
    "model = LogisticRegression(multi_class='multinomial', solver='lbfgs', max_iter=1000)\n",
    "model.fit(X_train, y_train)\n",
    "\n",
    "from sklearn.metrics import classification_report, confusion_matrix\n",
    "\n",
    "# Predictions\n",
    "y_pred_resampled = model.predict(X_test)\n",
    "\n",
    "# Evaluation\n",
    "print(classification_report(y_test, y_pred_resampled))\n",
    "print(confusion_matrix(y_test, y_pred_resampled))\n"
   ]
  },
  {
   "cell_type": "code",
   "execution_count": 14,
   "metadata": {},
   "outputs": [
    {
     "data": {
      "text/html": [
       "<style>#sk-container-id-1 {color: black;background-color: white;}#sk-container-id-1 pre{padding: 0;}#sk-container-id-1 div.sk-toggleable {background-color: white;}#sk-container-id-1 label.sk-toggleable__label {cursor: pointer;display: block;width: 100%;margin-bottom: 0;padding: 0.3em;box-sizing: border-box;text-align: center;}#sk-container-id-1 label.sk-toggleable__label-arrow:before {content: \"▸\";float: left;margin-right: 0.25em;color: #696969;}#sk-container-id-1 label.sk-toggleable__label-arrow:hover:before {color: black;}#sk-container-id-1 div.sk-estimator:hover label.sk-toggleable__label-arrow:before {color: black;}#sk-container-id-1 div.sk-toggleable__content {max-height: 0;max-width: 0;overflow: hidden;text-align: left;background-color: #f0f8ff;}#sk-container-id-1 div.sk-toggleable__content pre {margin: 0.2em;color: black;border-radius: 0.25em;background-color: #f0f8ff;}#sk-container-id-1 input.sk-toggleable__control:checked~div.sk-toggleable__content {max-height: 200px;max-width: 100%;overflow: auto;}#sk-container-id-1 input.sk-toggleable__control:checked~label.sk-toggleable__label-arrow:before {content: \"▾\";}#sk-container-id-1 div.sk-estimator input.sk-toggleable__control:checked~label.sk-toggleable__label {background-color: #d4ebff;}#sk-container-id-1 div.sk-label input.sk-toggleable__control:checked~label.sk-toggleable__label {background-color: #d4ebff;}#sk-container-id-1 input.sk-hidden--visually {border: 0;clip: rect(1px 1px 1px 1px);clip: rect(1px, 1px, 1px, 1px);height: 1px;margin: -1px;overflow: hidden;padding: 0;position: absolute;width: 1px;}#sk-container-id-1 div.sk-estimator {font-family: monospace;background-color: #f0f8ff;border: 1px dotted black;border-radius: 0.25em;box-sizing: border-box;margin-bottom: 0.5em;}#sk-container-id-1 div.sk-estimator:hover {background-color: #d4ebff;}#sk-container-id-1 div.sk-parallel-item::after {content: \"\";width: 100%;border-bottom: 1px solid gray;flex-grow: 1;}#sk-container-id-1 div.sk-label:hover label.sk-toggleable__label {background-color: #d4ebff;}#sk-container-id-1 div.sk-serial::before {content: \"\";position: absolute;border-left: 1px solid gray;box-sizing: border-box;top: 0;bottom: 0;left: 50%;z-index: 0;}#sk-container-id-1 div.sk-serial {display: flex;flex-direction: column;align-items: center;background-color: white;padding-right: 0.2em;padding-left: 0.2em;position: relative;}#sk-container-id-1 div.sk-item {position: relative;z-index: 1;}#sk-container-id-1 div.sk-parallel {display: flex;align-items: stretch;justify-content: center;background-color: white;position: relative;}#sk-container-id-1 div.sk-item::before, #sk-container-id-1 div.sk-parallel-item::before {content: \"\";position: absolute;border-left: 1px solid gray;box-sizing: border-box;top: 0;bottom: 0;left: 50%;z-index: -1;}#sk-container-id-1 div.sk-parallel-item {display: flex;flex-direction: column;z-index: 1;position: relative;background-color: white;}#sk-container-id-1 div.sk-parallel-item:first-child::after {align-self: flex-end;width: 50%;}#sk-container-id-1 div.sk-parallel-item:last-child::after {align-self: flex-start;width: 50%;}#sk-container-id-1 div.sk-parallel-item:only-child::after {width: 0;}#sk-container-id-1 div.sk-dashed-wrapped {border: 1px dashed gray;margin: 0 0.4em 0.5em 0.4em;box-sizing: border-box;padding-bottom: 0.4em;background-color: white;}#sk-container-id-1 div.sk-label label {font-family: monospace;font-weight: bold;display: inline-block;line-height: 1.2em;}#sk-container-id-1 div.sk-label-container {text-align: center;}#sk-container-id-1 div.sk-container {/* jupyter's `normalize.less` sets `[hidden] { display: none; }` but bootstrap.min.css set `[hidden] { display: none !important; }` so we also need the `!important` here to be able to override the default hidden behavior on the sphinx rendered scikit-learn.org. See: https://github.com/scikit-learn/scikit-learn/issues/21755 */display: inline-block !important;position: relative;}#sk-container-id-1 div.sk-text-repr-fallback {display: none;}</style><div id=\"sk-container-id-1\" class=\"sk-top-container\"><div class=\"sk-text-repr-fallback\"><pre>LogisticRegression(C=0.1, max_iter=1000, multi_class=&#x27;multinomial&#x27;,\n",
       "                   solver=&#x27;saga&#x27;)</pre><b>In a Jupyter environment, please rerun this cell to show the HTML representation or trust the notebook. <br />On GitHub, the HTML representation is unable to render, please try loading this page with nbviewer.org.</b></div><div class=\"sk-container\" hidden><div class=\"sk-item\"><div class=\"sk-estimator sk-toggleable\"><input class=\"sk-toggleable__control sk-hidden--visually\" id=\"sk-estimator-id-1\" type=\"checkbox\" checked><label for=\"sk-estimator-id-1\" class=\"sk-toggleable__label sk-toggleable__label-arrow\">LogisticRegression</label><div class=\"sk-toggleable__content\"><pre>LogisticRegression(C=0.1, max_iter=1000, multi_class=&#x27;multinomial&#x27;,\n",
       "                   solver=&#x27;saga&#x27;)</pre></div></div></div></div></div>"
      ],
      "text/plain": [
       "LogisticRegression(C=0.1, max_iter=1000, multi_class='multinomial',\n",
       "                   solver='saga')"
      ]
     },
     "execution_count": 14,
     "metadata": {},
     "output_type": "execute_result"
    }
   ],
   "source": [
    "# Logistic Regression with class_weight set to 'balanced'\n",
    "model = LogisticRegression(C= 0.1,multi_class='multinomial', solver='saga', max_iter=1000)\n",
    "model.fit(X_train, y_train)\n"
   ]
  },
  {
   "cell_type": "code",
   "execution_count": 15,
   "metadata": {},
   "outputs": [
    {
     "name": "stdout",
     "output_type": "stream",
     "text": [
      "              precision    recall  f1-score   support\n",
      "\n",
      "         1.0       0.60      0.56      0.58       463\n",
      "         2.0       0.59      0.62      0.60       462\n",
      "         3.0       0.77      0.77      0.77      1845\n",
      "         4.0       0.46      0.48      0.47      1812\n",
      "         5.0       0.69      0.66      0.68      1771\n",
      "\n",
      "    accuracy                           0.63      6353\n",
      "   macro avg       0.62      0.62      0.62      6353\n",
      "weighted avg       0.63      0.63      0.63      6353\n",
      "\n",
      "[[ 260  203    0    0    0]\n",
      " [ 175  287    0    0    0]\n",
      " [   0    0 1422  423    0]\n",
      " [   0    0  433  863  516]\n",
      " [   0    0    0  604 1167]]\n"
     ]
    }
   ],
   "source": [
    "from sklearn.metrics import classification_report, confusion_matrix\n",
    "\n",
    "# Predictions\n",
    "y_pred_resampled = model.predict(X_test)\n",
    "\n",
    "# Evaluation\n",
    "print(classification_report(y_test, y_pred_resampled))\n",
    "print(confusion_matrix(y_test, y_pred_resampled))\n"
   ]
  },
  {
   "cell_type": "code",
   "execution_count": 15,
   "metadata": {},
   "outputs": [],
   "source": [
    "# from sklearn.model_selection import GridSearchCV\n",
    "\n",
    "# # Set the parameters for tuning\n",
    "# param_grid = {'C': [0.1, 1, 10], 'solver': ['lbfgs', 'saga'], 'class_weight': [None, 'balanced']}\n",
    "\n",
    "# grid_search = GridSearchCV(LogisticRegression(multi_class='multinomial', max_iter=1000), param_grid, cv=5)\n",
    "# grid_search.fit(X_train, y_train)\n",
    "\n",
    "# print(f\"Best parameters: {grid_search.best_params_}\")\n"
   ]
  },
  {
   "cell_type": "code",
   "execution_count": 20,
   "metadata": {},
   "outputs": [
    {
     "name": "stdout",
     "output_type": "stream",
     "text": [
      "                                      points_in_wallet  membership_category  \\\n",
      "customer_id                                                                   \n",
      "fffe4300490044003600300030003800                781.75                    4   \n",
      "fffe4300490044003100390032003600                500.69                    0   \n",
      "fffe43004900440036003000330031003600            567.66                    0   \n",
      "fffe43004900440031003900350030003600            663.06                    0   \n",
      "fffe43004900440036003300320035003300            722.27                    3   \n",
      "\n",
      "                                      feedback_Poor Customer Service  \\\n",
      "customer_id                                                            \n",
      "fffe4300490044003600300030003800                               False   \n",
      "fffe4300490044003100390032003600                               False   \n",
      "fffe43004900440036003000330031003600                           False   \n",
      "fffe43004900440031003900350030003600                           False   \n",
      "fffe43004900440036003300320035003300                           False   \n",
      "\n",
      "                                      feedback_Poor Product Quality  \\\n",
      "customer_id                                                           \n",
      "fffe4300490044003600300030003800                              False   \n",
      "fffe4300490044003100390032003600                              False   \n",
      "fffe43004900440036003000330031003600                          False   \n",
      "fffe43004900440031003900350030003600                          False   \n",
      "fffe43004900440036003300320035003300                          False   \n",
      "\n",
      "                                      feedback_Poor Website  \\\n",
      "customer_id                                                   \n",
      "fffe4300490044003600300030003800                      False   \n",
      "fffe4300490044003100390032003600                       True   \n",
      "fffe43004900440036003000330031003600                   True   \n",
      "fffe43004900440031003900350030003600                   True   \n",
      "fffe43004900440036003300320035003300                  False   \n",
      "\n",
      "                                      feedback_Products always in Stock  \\\n",
      "customer_id                                                               \n",
      "fffe4300490044003600300030003800                                   True   \n",
      "fffe4300490044003100390032003600                                  False   \n",
      "fffe43004900440036003000330031003600                              False   \n",
      "fffe43004900440031003900350030003600                              False   \n",
      "fffe43004900440036003300320035003300                              False   \n",
      "\n",
      "                                      feedback_Quality Customer Care  \\\n",
      "customer_id                                                            \n",
      "fffe4300490044003600300030003800                               False   \n",
      "fffe4300490044003100390032003600                               False   \n",
      "fffe43004900440036003000330031003600                           False   \n",
      "fffe43004900440031003900350030003600                           False   \n",
      "fffe43004900440036003300320035003300                           False   \n",
      "\n",
      "                                      feedback_Reasonable Price  \\\n",
      "customer_id                                                       \n",
      "fffe4300490044003600300030003800                          False   \n",
      "fffe4300490044003100390032003600                          False   \n",
      "fffe43004900440036003000330031003600                      False   \n",
      "fffe43004900440031003900350030003600                      False   \n",
      "fffe43004900440036003300320035003300                      False   \n",
      "\n",
      "                                      feedback_Too many ads  \\\n",
      "customer_id                                                   \n",
      "fffe4300490044003600300030003800                      False   \n",
      "fffe4300490044003100390032003600                      False   \n",
      "fffe43004900440036003000330031003600                  False   \n",
      "fffe43004900440031003900350030003600                  False   \n",
      "fffe43004900440036003300320035003300                  False   \n",
      "\n",
      "                                      feedback_User Friendly Website  \\\n",
      "customer_id                                                            \n",
      "fffe4300490044003600300030003800                               False   \n",
      "fffe4300490044003100390032003600                               False   \n",
      "fffe43004900440036003000330031003600                           False   \n",
      "fffe43004900440031003900350030003600                           False   \n",
      "fffe43004900440036003300320035003300                           False   \n",
      "\n",
      "                                      avg_transaction_value  avg_time_spent  \\\n",
      "customer_id                                                                   \n",
      "fffe4300490044003600300030003800                 230.228691       17.338685   \n",
      "fffe4300490044003100390032003600                 145.006896       22.719155   \n",
      "fffe43004900440036003000330031003600             158.869632        7.298630   \n",
      "fffe43004900440031003900350030003600             156.472554       10.636259   \n",
      "fffe43004900440036003300320035003300             117.833654       20.823544   \n",
      "\n",
      "                                      avg_frequency_login_days  age  \\\n",
      "customer_id                                                           \n",
      "fffe4300490044003600300030003800                      4.123106   18   \n",
      "fffe4300490044003100390032003600                      4.690416   44   \n",
      "fffe43004900440036003000330031003600                  2.449490   37   \n",
      "fffe43004900440031003900350030003600                  4.000000   31   \n",
      "fffe43004900440036003300320035003300                  4.898979   13   \n",
      "\n",
      "                                      days_since_last_login  \n",
      "customer_id                                                  \n",
      "fffe4300490044003600300030003800                         17  \n",
      "fffe4300490044003100390032003600                         14  \n",
      "fffe43004900440036003000330031003600                     11  \n",
      "fffe43004900440031003900350030003600                     20  \n",
      "fffe43004900440036003300320035003300                     23  \n"
     ]
    }
   ],
   "source": []
  },
  {
   "cell_type": "code",
   "execution_count": null,
   "metadata": {},
   "outputs": [],
   "source": []
  }
 ],
 "metadata": {
  "kernelspec": {
   "display_name": "Python 3",
   "language": "python",
   "name": "python3"
  },
  "language_info": {
   "codemirror_mode": {
    "name": "ipython",
    "version": 3
   },
   "file_extension": ".py",
   "mimetype": "text/x-python",
   "name": "python",
   "nbconvert_exporter": "python",
   "pygments_lexer": "ipython3",
   "version": "3.10.9"
  }
 },
 "nbformat": 4,
 "nbformat_minor": 2
}
